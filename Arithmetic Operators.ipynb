{
 "cells": [
  {
   "cell_type": "code",
   "execution_count": null,
   "id": "574a557e",
   "metadata": {},
   "outputs": [],
   "source": [
    "num1=input()\n",
    "num2=input()\n",
    "num3=num1+num2\n",
    "num4=num1-num2\n",
    "num5=num1*num2\n",
    "print(num3)\n",
    "print(num4)\n",
    "print(num5)\n"
   ]
  }
 ],
 "metadata": {
  "kernelspec": {
   "display_name": "Python 3 (ipykernel)",
   "language": "python",
   "name": "python3"
  },
  "language_info": {
   "codemirror_mode": {
    "name": "ipython",
    "version": 3
   },
   "file_extension": ".py",
   "mimetype": "text/x-python",
   "name": "python",
   "nbconvert_exporter": "python",
   "pygments_lexer": "ipython3",
   "version": "3.9.5"
  }
 },
 "nbformat": 4,
 "nbformat_minor": 5
}
