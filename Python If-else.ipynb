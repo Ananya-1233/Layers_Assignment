{
 "cells": [
  {
   "cell_type": "code",
   "execution_count": null,
   "id": "14857329",
   "metadata": {},
   "outputs": [],
   "source": [
    "n = int(input())\n",
    "if n%2==0 and n not in range(6,21):\n",
    "    print(\"Not Weird\")\n",
    "else:\n",
    "    print(\"Weird\")\n"
   ]
  }
 ],
 "metadata": {
  "kernelspec": {
   "display_name": "Python 3 (ipykernel)",
   "language": "python",
   "name": "python3"
  },
  "language_info": {
   "codemirror_mode": {
    "name": "ipython",
    "version": 3
   },
   "file_extension": ".py",
   "mimetype": "text/x-python",
   "name": "python",
   "nbconvert_exporter": "python",
   "pygments_lexer": "ipython3",
   "version": "3.9.5"
  }
 },
 "nbformat": 4,
 "nbformat_minor": 5
}
