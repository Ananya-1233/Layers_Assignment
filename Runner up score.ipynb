{
 "cells": [
  {
   "cell_type": "code",
   "execution_count": null,
   "id": "d5b62e75",
   "metadata": {},
   "outputs": [],
   "source": [
    "if __name__ == '__main__':\n",
    "    n = int(raw_input())\n",
    "    arr = map(int, raw_input().split())\n",
    "    arr=sorted(arr,reverse=True)\n",
    "    for i in range(len(arr)):\n",
    "        if arr[i]==arr[0]:\n",
    "            continue\n",
    "        else:\n",
    "            print(arr[i])  \n",
    "            break\n"
   ]
  }
 ],
 "metadata": {
  "kernelspec": {
   "display_name": "Python 3 (ipykernel)",
   "language": "python",
   "name": "python3"
  },
  "language_info": {
   "codemirror_mode": {
    "name": "ipython",
    "version": 3
   },
   "file_extension": ".py",
   "mimetype": "text/x-python",
   "name": "python",
   "nbconvert_exporter": "python",
   "pygments_lexer": "ipython3",
   "version": "3.9.5"
  }
 },
 "nbformat": 4,
 "nbformat_minor": 5
}
