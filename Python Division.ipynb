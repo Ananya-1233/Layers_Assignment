{
 "cells": [
  {
   "cell_type": "code",
   "execution_count": null,
   "id": "9599ca4e",
   "metadata": {},
   "outputs": [],
   "source": [
    "num1=input()\n",
    "num2=input()\n",
    "num3=int(num1)/int(num2)\n",
    "print(num3)\n",
    "num4=float(num1)/float(num2)\n",
    "print(num4)\n"
   ]
  }
 ],
 "metadata": {
  "kernelspec": {
   "display_name": "Python 3 (ipykernel)",
   "language": "python",
   "name": "python3"
  },
  "language_info": {
   "codemirror_mode": {
    "name": "ipython",
    "version": 3
   },
   "file_extension": ".py",
   "mimetype": "text/x-python",
   "name": "python",
   "nbconvert_exporter": "python",
   "pygments_lexer": "ipython3",
   "version": "3.9.5"
  }
 },
 "nbformat": 4,
 "nbformat_minor": 5
}
