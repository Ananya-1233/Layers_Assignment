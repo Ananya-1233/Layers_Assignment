{
 "cells": [
  {
   "cell_type": "code",
   "execution_count": null,
   "id": "019ea473",
   "metadata": {},
   "outputs": [],
   "source": [
    "#Arithmetic operations\n",
    "num1=input()\n",
    "num2=input()\n",
    "num3=num1+num2\n",
    "num4=num1-num2\n",
    "num5=num1*num2\n",
    "print(num3)\n",
    "print(num4)\n",
    "print(num5)\n"
   ]
  },
  {
   "cell_type": "code",
   "execution_count": null,
   "id": "7b0f245b",
   "metadata": {},
   "outputs": [],
   "source": [
    "#List comprehensions\n",
    "if __name__ == '__main__':\n",
    "    x = int(input())\n",
    "    y = int(input())\n",
    "    z = int(input())\n",
    "    n = int(input())\n",
    "    output=[]\n",
    "    for i in range(x+1):\n",
    "        for j in range(y+1):\n",
    "            for k in range(z+1):\n",
    "                if i+j+k==n:\n",
    "                    continue\n",
    "                else:\n",
    "                    output.append([i,j,k])\n",
    "            \n",
    "    print(output)"
   ]
  },
  {
   "cell_type": "code",
   "execution_count": null,
   "id": "50406ee1",
   "metadata": {},
   "outputs": [],
   "source": [
    "#lists\n",
    "arr = []\n",
    "for i in range(int(raw_input())):\n",
    "    s = raw_input().split()\n",
    "    for i in range(1,len(s)):\n",
    "        s[i] = int(s[i])\n",
    "        \n",
    "    if s[0] == \"append\":\n",
    "        arr.append(s[1])\n",
    "    elif s[0] == \"extend\":    \n",
    "        arr.extend(s[1:])\n",
    "    elif s[0] == \"insert\":\n",
    "        arr.insert(s[1],s[2])\n",
    "    elif s[0] == \"remove\":\n",
    "        arr.remove(s[1])\n",
    "    elif s[0] == \"pop\":\n",
    "        arr.pop()\n",
    "    elif s[0] == \"index\":\n",
    "        print arr.index(s[1])\n",
    "    elif s[0] == \"count\":\n",
    "        print arr.count(s[1])\n",
    "    elif s[0] == \"sort\":\n",
    "        arr.sort()\n",
    "    elif s[0] == \"reverse\":\n",
    "        arr.reverse()\n",
    "    elif s[0] == \"print\":\n",
    "        print arr"
   ]
  },
  {
   "cell_type": "code",
   "execution_count": null,
   "id": "bfc593a0",
   "metadata": {},
   "outputs": [],
   "source": [
    "#Loops\n",
    "if __name__ == '__main__':\n",
    "    n = int(input())\n",
    "    for i in range(n):\n",
    "        print(i*i)\n"
   ]
  },
  {
   "cell_type": "code",
   "execution_count": null,
   "id": "1b0fc267",
   "metadata": {},
   "outputs": [],
   "source": [
    "#Print function\n",
    "from __future__ import print_function\n",
    "\n",
    "if __name__ == '__main__':\n",
    "    n = int(raw_input())\n",
    "for i in range (1,n+1):\n",
    "    print(i, end=\"\")\n"
   ]
  },
  {
   "cell_type": "code",
   "execution_count": null,
   "id": "9574139c",
   "metadata": {},
   "outputs": [],
   "source": [
    "#Python division\n",
    "num1=input()\n",
    "num2=input()\n",
    "num3=int(num1)/int(num2)\n",
    "print(num3)\n",
    "num4=float(num1)/float(num2)\n",
    "print(num4)\n"
   ]
  },
  {
   "cell_type": "code",
   "execution_count": null,
   "id": "522ad6bf",
   "metadata": {},
   "outputs": [],
   "source": [
    "#Python if-else\n",
    "n = int(input())\n",
    "if n%2==0 and n not in range(6,21):\n",
    "    print(\"Not Weird\")\n",
    "else:\n",
    "    print(\"Weird\")\n"
   ]
  },
  {
   "cell_type": "code",
   "execution_count": null,
   "id": "595aa50d",
   "metadata": {},
   "outputs": [],
   "source": [
    "#runner up score\n",
    "if __name__ == '__main__':\n",
    "    n = int(raw_input())\n",
    "    arr = map(int, raw_input().split())\n",
    "    arr=sorted(arr,reverse=True)\n",
    "    for i in range(len(arr)):\n",
    "        if arr[i]==arr[0]:\n",
    "            continue\n",
    "        else:\n",
    "            print(arr[i])  \n",
    "            break"
   ]
  },
  {
   "cell_type": "code",
   "execution_count": null,
   "id": "f452e9be",
   "metadata": {},
   "outputs": [],
   "source": [
    "#Tuples\n",
    "if __name__ == '__main__':\n",
    "    n = int(raw_input())\n",
    "integer_list = map(int, raw_input().split())\n",
    "t=tuple(integer_list)\n",
    "print(hash(t))\n"
   ]
  },
  {
   "cell_type": "code",
   "execution_count": null,
   "id": "cf2b87eb",
   "metadata": {},
   "outputs": [],
   "source": [
    "#Write a function\n",
    "def is_leap(year):\n",
    "    if (year%4==0):\n",
    "        leap=True\n",
    "    if(year%4!=0 or year==2100):\n",
    "        leap=False\n",
    "    \n",
    "    return leap\n",
    "\n",
    "year = int(input())"
   ]
  }
 ],
 "metadata": {
  "kernelspec": {
   "display_name": "Python 3 (ipykernel)",
   "language": "python",
   "name": "python3"
  },
  "language_info": {
   "codemirror_mode": {
    "name": "ipython",
    "version": 3
   },
   "file_extension": ".py",
   "mimetype": "text/x-python",
   "name": "python",
   "nbconvert_exporter": "python",
   "pygments_lexer": "ipython3",
   "version": "3.9.5"
  }
 },
 "nbformat": 4,
 "nbformat_minor": 5
}
